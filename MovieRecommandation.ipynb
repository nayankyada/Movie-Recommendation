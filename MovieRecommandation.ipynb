{
  "nbformat": 4,
  "nbformat_minor": 0,
  "metadata": {
    "colab": {
      "name": "1.ipynb",
      "provenance": [],
      "collapsed_sections": [],
      "machine_shape": "hm"
    },
    "kernelspec": {
      "name": "python3",
      "display_name": "Python 3"
    },
    "accelerator": "GPU"
  },
  "cells": [
    {
      "cell_type": "code",
      "metadata": {
        "id": "w5QCD76sso4h",
        "colab_type": "code",
        "outputId": "00218aaf-bc42-42a5-fb93-a9ed42ff6692",
        "colab": {
          "base_uri": "https://localhost:8080/",
          "height": 122
        }
      },
      "source": [
        "from google.colab import drive\n",
        "drive.mount('/content/drive')"
      ],
      "execution_count": 1,
      "outputs": [
        {
          "output_type": "stream",
          "text": [
            "Go to this URL in a browser: https://accounts.google.com/o/oauth2/auth?client_id=947318989803-6bn6qk8qdgf4n4g3pfee6491hc0brc4i.apps.googleusercontent.com&redirect_uri=urn%3aietf%3awg%3aoauth%3a2.0%3aoob&response_type=code&scope=email%20https%3a%2f%2fwww.googleapis.com%2fauth%2fdocs.test%20https%3a%2f%2fwww.googleapis.com%2fauth%2fdrive%20https%3a%2f%2fwww.googleapis.com%2fauth%2fdrive.photos.readonly%20https%3a%2f%2fwww.googleapis.com%2fauth%2fpeopleapi.readonly\n",
            "\n",
            "Enter your authorization code:\n",
            "··········\n",
            "Mounted at /content/drive\n"
          ],
          "name": "stdout"
        }
      ]
    },
    {
      "cell_type": "code",
      "metadata": {
        "id": "CZIEHNSTsxZE",
        "colab_type": "code",
        "colab": {}
      },
      "source": [
        "import numpy as np\n",
        "import pandas as pd\n",
        "import matplotlib.pyplot as plt\n",
        "import seaborn as sns"
      ],
      "execution_count": 0,
      "outputs": []
    },
    {
      "cell_type": "markdown",
      "metadata": {
        "id": "NNWAtX_ztRD_",
        "colab_type": "text"
      },
      "source": [
        "# 1. Data Reading"
      ]
    },
    {
      "cell_type": "code",
      "metadata": {
        "id": "Khfl0YS-s4A_",
        "colab_type": "code",
        "colab": {}
      },
      "source": [
        "data = pd.read_csv('/content/drive/My Drive/6_MOVIELENS/rating.csv')\n",
        "movies = pd.read_csv('/content/drive/My Drive/6_MOVIELENS/movie.csv')"
      ],
      "execution_count": 0,
      "outputs": []
    },
    {
      "cell_type": "code",
      "metadata": {
        "id": "UorTGyAjs_6W",
        "colab_type": "code",
        "outputId": "bb0cc2c9-47e9-478b-8279-036a3d7afa1f",
        "colab": {
          "base_uri": "https://localhost:8080/",
          "height": 68
        }
      },
      "source": [
        "print(data.columns)\n",
        "print(data.shape)\n",
        "print('No of rating : ',data.shape[0] )"
      ],
      "execution_count": 5,
      "outputs": [
        {
          "output_type": "stream",
          "text": [
            "Index(['userId', 'movieId', 'rating', 'timestamp'], dtype='object')\n",
            "(20000263, 4)\n",
            "No of rating :  20000263\n"
          ],
          "name": "stdout"
        }
      ]
    },
    {
      "cell_type": "markdown",
      "metadata": {
        "id": "XxrjGWxotZ9n",
        "colab_type": "text"
      },
      "source": [
        "# 2. EDA based in userId"
      ]
    },
    {
      "cell_type": "code",
      "metadata": {
        "id": "uvH_PikRtdsK",
        "colab_type": "code",
        "outputId": "2edf5107-418a-4568-c927-5a3fc707b5e6",
        "colab": {
          "base_uri": "https://localhost:8080/",
          "height": 85
        }
      },
      "source": [
        "print('Check for null value : ',data.userId.isnull().any())\n",
        "print('No of unique user : ',len(np.unique(data.userId)))\n",
        "print(data.userId.min())\n",
        "print(data.userId.max())"
      ],
      "execution_count": 6,
      "outputs": [
        {
          "output_type": "stream",
          "text": [
            "Check for null value :  False\n",
            "No of unique user :  138493\n",
            "1\n",
            "138493\n"
          ],
          "name": "stdout"
        }
      ]
    },
    {
      "cell_type": "code",
      "metadata": {
        "id": "Gc3n5HCFtn-9",
        "colab_type": "code",
        "outputId": "7b120927-dc83-4d85-9e30-85b23216ecea",
        "colab": {
          "base_uri": "https://localhost:8080/",
          "height": 51
        }
      },
      "source": [
        "no_rating_per_user=data.groupby('userId').count()['rating'].copy()\n",
        "no_rating_per_user.sort_values(inplace=True)\n",
        "print(sum(no_rating_per_user == no_rating_per_user.max()),'user gives maximum no of rating is ',no_rating_per_user.max())\n",
        "print(sum(no_rating_per_user == no_rating_per_user.min()),'user gives minimum no of rating is ',no_rating_per_user.min())"
      ],
      "execution_count": 7,
      "outputs": [
        {
          "output_type": "stream",
          "text": [
            "1 user gives maximum no of rating is  9254\n",
            "4485 user gives minimum no of rating is  20\n"
          ],
          "name": "stdout"
        }
      ]
    },
    {
      "cell_type": "code",
      "metadata": {
        "id": "gy_uSFrQwgJq",
        "colab_type": "code",
        "outputId": "3be293a1-4fe5-4384-e1c3-0c16055dbe01",
        "colab": {
          "base_uri": "https://localhost:8080/",
          "height": 296
        }
      },
      "source": [
        "sns.distplot(no_rating_per_user)\n",
        "# according to this there are lots of user who gave no of rating betwwen [0-250] "
      ],
      "execution_count": 8,
      "outputs": [
        {
          "output_type": "execute_result",
          "data": {
            "text/plain": [
              "<matplotlib.axes._subplots.AxesSubplot at 0x7f81f4167358>"
            ]
          },
          "metadata": {
            "tags": []
          },
          "execution_count": 8
        },
        {
          "output_type": "display_data",
          "data": {
            "image/png": "[encoded data removed]",
            "text/plain": [
              "<Figure size 432x288 with 1 Axes>"
            ]
          },
          "metadata": {
            "tags": []
          }
        }
      ]
    },
    {
      "cell_type": "code",
      "metadata": {
        "id": "Yojoy63mwjTY",
        "colab_type": "code",
        "outputId": "735c4941-7ead-4e28-837e-989f3798a699",
        "colab": {
          "base_uri": "https://localhost:8080/",
          "height": 187
        }
      },
      "source": [
        "for i in range (91,101):\n",
        "    print('Percentile --- ',i,' --- ',np.percentile(no_rating_per_user,i))\n",
        "# 10 percent people gives more than 360 rating \n",
        "# 90 percent people gives less then 360 rating"
      ],
      "execution_count": 9,
      "outputs": [
        {
          "output_type": "stream",
          "text": [
            "Percentile ---  91  ---  360.0\n",
            "Percentile ---  92  ---  390.0\n",
            "Percentile ---  93  ---  424.0\n",
            "Percentile ---  94  ---  467.0\n",
            "Percentile ---  95  ---  520.0\n",
            "Percentile ---  96  ---  587.0\n",
            "Percentile ---  97  ---  684.0\n",
            "Percentile ---  98  ---  834.0\n",
            "Percentile ---  99  ---  1113.0799999999872\n",
            "Percentile ---  100  ---  9254.0\n"
          ],
          "name": "stdout"
        }
      ]
    },
    {
      "cell_type": "code",
      "metadata": {
        "id": "8cvlNVbax-mo",
        "colab_type": "code",
        "colab": {}
      },
      "source": [
        "avg_rating_per_user = data.groupby('userId').sum()['rating'].copy() / data.groupby('userId').count()['rating'].copy()\n",
        "avg_rating_per_user.sort_values(inplace=True)"
      ],
      "execution_count": 0,
      "outputs": []
    },
    {
      "cell_type": "code",
      "metadata": {
        "id": "Td4DHTFd_UC9",
        "colab_type": "code",
        "outputId": "15d897ef-d6d3-44bc-bada-507260d82ea5",
        "colab": {
          "base_uri": "https://localhost:8080/",
          "height": 296
        }
      },
      "source": [
        "sns.distplot(avg_rating_per_user)\n",
        "# most of peoples avg ratings lies between 3.5 to 3.8"
      ],
      "execution_count": 11,
      "outputs": [
        {
          "output_type": "execute_result",
          "data": {
            "text/plain": [
              "<matplotlib.axes._subplots.AxesSubplot at 0x7f81f3b9a748>"
            ]
          },
          "metadata": {
            "tags": []
          },
          "execution_count": 11
        },
        {
          "output_type": "display_data",
          "data": {
            "image/png": "[encoded data removed]",
            "text/plain": [
              "<Figure size 432x288 with 1 Axes>"
            ]
          },
          "metadata": {
            "tags": []
          }
        }
      ]
    },
    {
      "cell_type": "markdown",
      "metadata": {
        "colab_type": "text",
        "id": "OpdCMVk_E24g"
      },
      "source": [
        "# 3. EDA based in movieId"
      ]
    },
    {
      "cell_type": "code",
      "metadata": {
        "colab_type": "code",
        "outputId": "2159b12b-c976-4edb-b43b-df90a18765e2",
        "id": "nmZleD7RE24t",
        "colab": {
          "base_uri": "https://localhost:8080/",
          "height": 85
        }
      },
      "source": [
        "print('Check for null value : ',data.movieId.isnull().any())\n",
        "print('No of unique movie : ',len(np.unique(data.movieId)))\n",
        "print(data.movieId.min())\n",
        "print(data.movieId.max())"
      ],
      "execution_count": 12,
      "outputs": [
        {
          "output_type": "stream",
          "text": [
            "Check for null value :  False\n",
            "No of unique movie :  26744\n",
            "1\n",
            "131262\n"
          ],
          "name": "stdout"
        }
      ]
    },
    {
      "cell_type": "code",
      "metadata": {
        "colab_type": "code",
        "outputId": "7c70ec79-b989-4320-a5f4-ab79b025df44",
        "id": "8jUgiCIDE24_",
        "colab": {
          "base_uri": "https://localhost:8080/",
          "height": 51
        }
      },
      "source": [
        "no_rating_per_movie=data.groupby('movieId').count()['rating'].copy()\n",
        "no_rating_per_movie.sort_values(inplace=True)\n",
        "print(sum(no_rating_per_movie == no_rating_per_movie.max()),'movies with maximum no of rating is ',no_rating_per_movie.max())\n",
        "print(sum(no_rating_per_movie == no_rating_per_movie.min()),'movies with minimum no of rating is ',no_rating_per_movie.min())\n"
      ],
      "execution_count": 13,
      "outputs": [
        {
          "output_type": "stream",
          "text": [
            "1 movies with maximum no of rating is  67310\n",
            "3972 movies with minimum no of rating is  1\n"
          ],
          "name": "stdout"
        }
      ]
    },
    {
      "cell_type": "code",
      "metadata": {
        "colab_type": "code",
        "outputId": "1f8c0dbe-3697-466f-98e9-77fdcba0dac8",
        "id": "CWjJbnciE25S",
        "colab": {
          "base_uri": "https://localhost:8080/",
          "height": 299
        }
      },
      "source": [
        "sns.distplot(no_rating_per_movie)\n",
        "# according to this there are lots of people who gave no of rating betwwen [0-250] "
      ],
      "execution_count": 14,
      "outputs": [
        {
          "output_type": "execute_result",
          "data": {
            "text/plain": [
              "<matplotlib.axes._subplots.AxesSubplot at 0x7f81f17faf28>"
            ]
          },
          "metadata": {
            "tags": []
          },
          "execution_count": 14
        },
        {
          "output_type": "display_data",
          "data": {
            "image/png": "[encoded data removed]",
            "text/plain": [
              "<Figure size 432x288 with 1 Axes>"
            ]
          },
          "metadata": {
            "tags": []
          }
        }
      ]
    },
    {
      "cell_type": "code",
      "metadata": {
        "colab_type": "code",
        "outputId": "add5d270-11f1-4742-8869-7108209eddae",
        "id": "4E0XBnl4E25Z",
        "colab": {
          "base_uri": "https://localhost:8080/",
          "height": 187
        }
      },
      "source": [
        "for i in range (91,101):\n",
        "    print('Percentile --- ',i,' --- ',np.percentile(no_rating_per_movie,i))\n",
        "# 10% movies has no of360 rating \n",
        "# 90 percent people gives less then 360 rating"
      ],
      "execution_count": 15,
      "outputs": [
        {
          "output_type": "stream",
          "text": [
            "Percentile ---  91  ---  1543.0\n",
            "Percentile ---  92  ---  1848.0\n",
            "Percentile ---  93  ---  2285.980000000003\n",
            "Percentile ---  94  ---  2847.0\n",
            "Percentile ---  95  ---  3612.94999999999\n",
            "Percentile ---  96  ---  4700.559999999998\n",
            "Percentile ---  97  ---  6219.969999999994\n",
            "Percentile ---  98  ---  8835.779999999984\n",
            "Percentile ---  99  ---  14388.689999999995\n",
            "Percentile ---  100  ---  67310.0\n"
          ],
          "name": "stdout"
        }
      ]
    },
    {
      "cell_type": "code",
      "metadata": {
        "colab_type": "code",
        "id": "7yE1gAYFE25g",
        "colab": {}
      },
      "source": [
        "avg_rating_per_movie = data.groupby('movieId').sum()['rating'].copy() / data.groupby('movieId').count()['rating'].copy()\n",
        "avg_rating_per_movie.sort_values(inplace=True)"
      ],
      "execution_count": 0,
      "outputs": []
    },
    {
      "cell_type": "code",
      "metadata": {
        "colab_type": "code",
        "outputId": "754e4c09-0626-413e-998d-eb3d5a53085f",
        "id": "M1EC6yCOE25t",
        "colab": {
          "base_uri": "https://localhost:8080/",
          "height": 296
        }
      },
      "source": [
        "sns.distplot(avg_rating_per_movie)\n",
        "# most of movies avg ratings lies between 2.5 to 4"
      ],
      "execution_count": 17,
      "outputs": [
        {
          "output_type": "execute_result",
          "data": {
            "text/plain": [
              "<matplotlib.axes._subplots.AxesSubplot at 0x7f81f1700f28>"
            ]
          },
          "metadata": {
            "tags": []
          },
          "execution_count": 17
        },
        {
          "output_type": "display_data",
          "data": {
            "image/png": "[encoded data removed]",
            "text/plain": [
              "<Figure size 432x288 with 1 Axes>"
            ]
          },
          "metadata": {
            "tags": []
          }
        }
      ]
    },
    {
      "cell_type": "markdown",
      "metadata": {
        "colab_type": "text",
        "id": "l8gDHxR7OiGk"
      },
      "source": [
        "# 3. EDA based in rating"
      ]
    },
    {
      "cell_type": "code",
      "metadata": {
        "id": "aOTdSr-LOkua",
        "colab_type": "code",
        "outputId": "0144ac3d-0b08-4bcd-e0d7-c38ab2a698e7",
        "colab": {
          "base_uri": "https://localhost:8080/",
          "height": 296
        }
      },
      "source": [
        "sns.countplot(data.rating)"
      ],
      "execution_count": 18,
      "outputs": [
        {
          "output_type": "execute_result",
          "data": {
            "text/plain": [
              "<matplotlib.axes._subplots.AxesSubplot at 0x7f81f16469b0>"
            ]
          },
          "metadata": {
            "tags": []
          },
          "execution_count": 18
        },
        {
          "output_type": "display_data",
          "data": {
            "image/png": "[encoded data removed]",
            "text/plain": [
              "<Figure size 432x288 with 1 Axes>"
            ]
          },
          "metadata": {
            "tags": []
          }
        }
      ]
    },
    {
      "cell_type": "code",
      "metadata": {
        "id": "IFHVUTmNPoj-",
        "colab_type": "code",
        "outputId": "f31085ff-beec-4542-ed1f-19f9b4f0c14d",
        "colab": {
          "base_uri": "https://localhost:8080/",
          "height": 296
        }
      },
      "source": [
        "sns.distplot(data.rating.sort_values())"
      ],
      "execution_count": 19,
      "outputs": [
        {
          "output_type": "execute_result",
          "data": {
            "text/plain": [
              "<matplotlib.axes._subplots.AxesSubplot at 0x7f81f156a208>"
            ]
          },
          "metadata": {
            "tags": []
          },
          "execution_count": 19
        },
        {
          "output_type": "display_data",
          "data": {
            "image/png": "[encoded data removed]",
            "text/plain": [
              "<Figure size 432x288 with 1 Axes>"
            ]
          },
          "metadata": {
            "tags": []
          }
        }
      ]
    },
    {
      "cell_type": "markdown",
      "metadata": {
        "colab_type": "text",
        "id": "3JQZZ_bkQITM"
      },
      "source": [
        "# 4. Create Sparse matrix"
      ]
    },
    {
      "cell_type": "markdown",
      "metadata": {
        "id": "WJ_KzrEoB3Lm",
        "colab_type": "text"
      },
      "source": [
        "1: Here user id start from 1 to 138493 so u_u_sim is of(138493,138493) which required around 54GB\n",
        "\n",
        "2: Here movie id start from 1 to 131262 so m_m_sim is of(131262,131262) which required around 49GB\n",
        "\n",
        "3: So tatal RAM required is 103Gb so we build system on small datasets\n",
        "\n",
        "4: So we consider userId < 20000 for u_u_sim\n",
        "\n",
        "5: So we consider movieId < 40000 for m_m_sim"
      ]
    },
    {
      "cell_type": "code",
      "metadata": {
        "id": "nZDNn7IycaQN",
        "colab_type": "code",
        "colab": {}
      },
      "source": [
        "from scipy.sparse import csr_matrix\n",
        "from sklearn.metrics.pairwise import cosine_similarity"
      ],
      "execution_count": 0,
      "outputs": []
    },
    {
      "cell_type": "markdown",
      "metadata": {
        "id": "nnZhKdNQdL5O",
        "colab_type": "text"
      },
      "source": [
        "## User-User similarity"
      ]
    },
    {
      "cell_type": "code",
      "metadata": {
        "id": "Lal8cxAGX9iH",
        "colab_type": "code",
        "colab": {}
      },
      "source": [
        "# small_data_user = data[data.userId < 20000]\n",
        "# print('Shape',small_data_user.shape)\n",
        "# print('Unique no of user',len(np.unique(small_data_user.userId)))\n",
        "# print('Unique no of movie',len(np.unique(small_data_user.movieId)))\n",
        "# print('sparse matrix dim will be: (',small_data_user.userId.max(),',',small_data_user.movieId.max(),')')\n"
      ],
      "execution_count": 0,
      "outputs": []
    },
    {
      "cell_type": "code",
      "metadata": {
        "id": "HR0bpNyMYST5",
        "colab_type": "code",
        "colab": {}
      },
      "source": [
        "# u_sparse_matrix = csr_matrix((small_data_user.rating,(small_data_user.userId,small_data_user.movieId)))\n",
        "# u_u_simi = cosine_similarity(u_sparse_matrix)\n",
        "# print('Sparse matrix dim : ',u_sparse_matrix.shape)\n",
        "# print('User User similarity matrix dim :',u_u_simi.shape)\n"
      ],
      "execution_count": 0,
      "outputs": []
    },
    {
      "cell_type": "markdown",
      "metadata": {
        "colab_type": "text",
        "id": "PqJ6Au7sdQxG"
      },
      "source": [
        "## Movie-Movie similarity"
      ]
    },
    {
      "cell_type": "code",
      "metadata": {
        "colab_type": "code",
        "outputId": "af6a0147-90a9-410b-d78b-ed9b90ec73a8",
        "id": "DoyBIMvAdQxU",
        "colab": {
          "base_uri": "https://localhost:8080/",
          "height": 85
        }
      },
      "source": [
        "small_data_movie = data[data.movieId < 40000]\n",
        "print('Shape',small_data_movie.shape)\n",
        "print('Unique no of user',len(np.unique(small_data_movie.userId)))\n",
        "print('Unique no of movie',len(np.unique(small_data_movie.movieId)))\n",
        "print('sparse matrix dim will be: (',small_data_movie.userId.max(),',',small_data_movie.movieId.max(),')')\n"
      ],
      "execution_count": 21,
      "outputs": [
        {
          "output_type": "stream",
          "text": [
            "Shape (18163195, 4)\n",
            "Unique no of user 138488\n",
            "Unique no of movie 10546\n",
            "sparse matrix dim will be: ( 138493 , 39941 )\n"
          ],
          "name": "stdout"
        }
      ]
    },
    {
      "cell_type": "code",
      "metadata": {
        "colab_type": "code",
        "id": "b5fq80NodQxh",
        "colab": {}
      },
      "source": [
        "m_sparse_matrix = csr_matrix((small_data_movie.rating,(small_data_movie.movieId,small_data_movie.userId)))\n",
        "m_m_simi = cosine_similarity(m_sparse_matrix)"
      ],
      "execution_count": 0,
      "outputs": []
    },
    {
      "cell_type": "code",
      "metadata": {
        "id": "uDfEuREMgTva",
        "colab_type": "code",
        "outputId": "16717b6d-175f-4c88-f144-e800b9986186",
        "colab": {
          "base_uri": "https://localhost:8080/",
          "height": 51
        }
      },
      "source": [
        "print(m_sparse_matrix.shape)\n",
        "print(m_m_simi.shape)\n"
      ],
      "execution_count": 23,
      "outputs": [
        {
          "output_type": "stream",
          "text": [
            "(39942, 138494)\n",
            "(39942, 39942)\n"
          ],
          "name": "stdout"
        }
      ]
    },
    {
      "cell_type": "code",
      "metadata": {
        "id": "B4fzYeQUYoMj",
        "colab_type": "code",
        "colab": {
          "base_uri": "https://localhost:8080/",
          "height": 34
        },
        "outputId": "6e64e37c-92cf-484f-f2ce-b085b555ab6e"
      },
      "source": [
        "movie_title = 'Persuasion (1995)'\n",
        "movie_id = movies[movies.title == movie_title]['movieId']\n",
        "print(movie_id.iloc[0])"
      ],
      "execution_count": 57,
      "outputs": [
        {
          "output_type": "stream",
          "text": [
            "28\n"
          ],
          "name": "stdout"
        }
      ]
    },
    {
      "cell_type": "code",
      "metadata": {
        "colab_type": "code",
        "outputId": "f9e7f773-5e6d-4020-ac50-ffe48b9165d8",
        "id": "WalHQ5QNYmvB",
        "colab": {
          "base_uri": "https://localhost:8080/",
          "height": 323
        }
      },
      "source": [
        "try:\n",
        "    movie_title = 'Emma (1996)'\n",
        "    movie_id = movies[movies.title == movie_title]['movieId'].iloc[0]\n",
        "    print(movies[movies.movieId == movie_id])\n",
        "    print('\\nMaximum similarity',m_m_simi[movie_id].max(),'with movie_id',np.argmax(m_m_simi[movie_id]))\n",
        "    print('\\nIndex with assending similarity',np.argsort(m_m_simi[movie_id]))\n",
        "    print('\\nTop 5 movieId with maximum similarity: ',np.argsort(m_m_simi[movie_id])[-5:])\n",
        "    a = np.argsort(m_m_simi[movie_id])[-5:]\n",
        "    a = reversed(a)\n",
        "    for i in a :\n",
        "        print(movies[movies.movieId == i])\n",
        "except:\n",
        "    print('Movie not in datasets')"
      ],
      "execution_count": 63,
      "outputs": [
        {
          "output_type": "stream",
          "text": [
            "     movieId        title                genres\n",
            "823      838  Emma (1996)  Comedy|Drama|Romance\n",
            "\n",
            "Maximum similarity 1.0000000000000266 with movie_id 838\n",
            "\n",
            "Index with assending similarity [    0 25279 25280 ...    28    17   838]\n",
            "\n",
            "Top 5 movieId with maximum similarity:  [1183  497   28   17  838]\n",
            "     movieId        title                genres\n",
            "823      838  Emma (1996)  Comedy|Drama|Romance\n",
            "    movieId                         title         genres\n",
            "16       17  Sense and Sensibility (1995)  Drama|Romance\n",
            "    movieId              title         genres\n",
            "27       28  Persuasion (1995)  Drama|Romance\n",
            "     movieId                          title          genres\n",
            "493      497  Much Ado About Nothing (1993)  Comedy|Romance\n",
            "      movieId                        title             genres\n",
            "1159     1183  English Patient, The (1996)  Drama|Romance|War\n"
          ],
          "name": "stdout"
        }
      ]
    },
    {
      "cell_type": "code",
      "metadata": {
        "id": "f1vkC3HYjFUo",
        "colab_type": "code",
        "outputId": "e9eb5b0a-a94f-4a9b-e126-309f32f3ec3b",
        "colab": {
          "base_uri": "https://localhost:8080/",
          "height": 51
        }
      },
      "source": [
        "a=np.argsort(m_m_simi[movie_id])\n",
        "print(a)\n",
        "print(a[-5:])"
      ],
      "execution_count": 39,
      "outputs": [
        {
          "output_type": "stream",
          "text": [
            "[    0 25394 25395 ...   838    17    28]\n",
            "[515 497 838  17  28]\n"
          ],
          "name": "stdout"
        }
      ]
    },
    {
      "cell_type": "code",
      "metadata": {
        "id": "NQOkuT7bkh_7",
        "colab_type": "code",
        "colab": {}
      },
      "source": [
        ""
      ],
      "execution_count": 0,
      "outputs": []
    }
  ]
}